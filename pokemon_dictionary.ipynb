{
 "cells": [
  {
   "cell_type": "code",
   "execution_count": 31,
   "metadata": {},
   "outputs": [
    {
     "name": "stdout",
     "output_type": "stream",
     "text": [
      "{'Grass': {'Bulbasaur': {'abilities': ['overgrow', 'chlorophyll'], 'weight': 69}, 'Ivysaur': {'abilities': ['overgrow', 'chlorophyll'], 'weight': 130}, 'Venusaur': {'abilities': ['overgrow', 'chlorophyll'], 'weight': 1000}}, 'Poison': {'Bulbasaur': {'abilities': ['overgrow', 'chlorophyll'], 'weight': 69}, 'Ivysaur': {'abilities': ['overgrow', 'chlorophyll'], 'weight': 130}, 'Venusaur': {'abilities': ['overgrow', 'chlorophyll'], 'weight': 1000}, 'Weedle': {'abilities': ['shield-dust', 'run-away'], 'weight': 32}, 'Kakuna': {'abilities': ['shed-skin'], 'weight': 100}, 'Beedrill': {'abilities': ['swarm', 'sniper'], 'weight': 295}}, 'Fire': {'Charmander': {'abilities': ['blaze', 'solar-power'], 'weight': 85}, 'Charmeleon': {'abilities': ['blaze', 'solar-power'], 'weight': 190}, 'Charizard': {'abilities': ['blaze', 'solar-power'], 'weight': 905}}, 'Flying': {'Charizard': {'abilities': ['blaze', 'solar-power'], 'weight': 905}, 'Butterfree': {'abilities': ['compound-eyes', 'tinted-lens'], 'weight': 320}, 'Pidgey': {'abilities': ['keen-eye', 'tangled-feet', 'big-pecks'], 'weight': 18}, 'Pidgeotto': {'abilities': ['keen-eye', 'tangled-feet', 'big-pecks'], 'weight': 300}, 'Pidgeot': {'abilities': ['keen-eye', 'tangled-feet', 'big-pecks'], 'weight': 395}}, 'Water': {'Squirtle': {'abilities': ['torrent', 'rain-dish'], 'weight': 90}, 'Wartortle': {'abilities': ['torrent', 'rain-dish'], 'weight': 225}, 'Blastoise': {'abilities': ['torrent', 'rain-dish'], 'weight': 855}}, 'Bug': {'Caterpie': {'abilities': ['shield-dust', 'run-away'], 'weight': 29}, 'Metapod': {'abilities': ['shed-skin'], 'weight': 99}, 'Butterfree': {'abilities': ['compound-eyes', 'tinted-lens'], 'weight': 320}, 'Weedle': {'abilities': ['shield-dust', 'run-away'], 'weight': 32}, 'Kakuna': {'abilities': ['shed-skin'], 'weight': 100}, 'Beedrill': {'abilities': ['swarm', 'sniper'], 'weight': 295}}, 'Normal': {'Pidgey': {'abilities': ['keen-eye', 'tangled-feet', 'big-pecks'], 'weight': 18}, 'Pidgeotto': {'abilities': ['keen-eye', 'tangled-feet', 'big-pecks'], 'weight': 300}, 'Pidgeot': {'abilities': ['keen-eye', 'tangled-feet', 'big-pecks'], 'weight': 395}, 'Rattata': {'abilities': ['run-away', 'guts', 'hustle'], 'weight': 35}, 'Raticate': {'abilities': ['run-away', 'guts', 'hustle'], 'weight': 185}}}\n"
     ]
    }
   ],
   "source": [
    "import requests\n",
    "\n",
    "def get_pokemon_data(pokemon_num):\n",
    "    url = f\"https://pokeapi.co/api/v2/pokemon/{pokemon_num}/\"\n",
    "    response = requests.get(url)\n",
    "    if response.status_code == 200:\n",
    "        data = response.json()\n",
    "        return data\n",
    "    else:\n",
    "        return None\n",
    "    \n",
    "def create_pokemon_object(pokemon_data):\n",
    "    pokemon ={\n",
    "        'name': pokemon_data['name'],\n",
    "        'abilities': [ability['ability']['name'] for ability in pokemon_data['abilities']],\n",
    "        'type': [type['type']['name'] for type in pokemon_data['types']],\n",
    "        'weight': pokemon_data['weight']\n",
    "    }\n",
    "    return pokemon\n",
    "\n",
    "def categorize_pokemon_by_type(pokemon_list):\n",
    "    categorized_pokemon = {}\n",
    "    for pokemon in pokemon_list:\n",
    "        for poke_type in pokemon['type']:\n",
    "            categorized_pokemon.setdefault(poke_type, []).append(pokemon)\n",
    "    return categorized_pokemon\n",
    "\n",
    "def create_pokemon_dictionary(pokemon_data):\n",
    "    categorized_pokemon = categorize_pokemon_by_type(pokemon_data)\n",
    "    pokemon_dict = {}\n",
    "    for poke_type, pokemon_list in categorized_pokemon.items():\n",
    "        pokemon_dict[poke_type.capitalize()] = {pokemon['name'].capitalize(): {'abilities': pokemon['abilities'], 'weight': pokemon['weight']} for pokemon in pokemon_list}\n",
    "    return pokemon_dict\n",
    "\n",
    "def make_20_pokemon():\n",
    "    pokemon_list = []\n",
    "    for i in range(1, 21):\n",
    "        pokemon_num = f\"{i}\"\n",
    "        pokemon_data = get_pokemon_data(pokemon_num)\n",
    "        if pokemon_data:\n",
    "            pokemon_object = create_pokemon_object(pokemon_data)\n",
    "            pokemon_list.append(pokemon_object)\n",
    "    return pokemon_list\n",
    "\n",
    "def main():\n",
    "    pokemon_data = make_20_pokemon()\n",
    "    if pokemon_data:\n",
    "        pokemon_dictionary = create_pokemon_dictionary(pokemon_data)\n",
    "        print(pokemon_dictionary)\n",
    "    else:\n",
    "        print(\"Failed to retrieve data for Pokemon\")\n",
    "\n",
    "if __name__ == \"__main__\":\n",
    "    main()"
   ]
  },
  {
   "cell_type": "code",
   "execution_count": null,
   "metadata": {},
   "outputs": [],
   "source": []
  }
 ],
 "metadata": {
  "kernelspec": {
   "display_name": "Python 3",
   "language": "python",
   "name": "python3"
  },
  "language_info": {
   "codemirror_mode": {
    "name": "ipython",
    "version": 3
   },
   "file_extension": ".py",
   "mimetype": "text/x-python",
   "name": "python",
   "nbconvert_exporter": "python",
   "pygments_lexer": "ipython3",
   "version": "3.10.7"
  }
 },
 "nbformat": 4,
 "nbformat_minor": 2
}
